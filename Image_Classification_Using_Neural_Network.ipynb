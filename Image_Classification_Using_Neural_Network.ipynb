{
 "cells": [
  {
   "cell_type": "code",
   "execution_count": 1,
   "id": "7b35b9cc",
   "metadata": {},
   "outputs": [],
   "source": [
    "import numpy as np\n",
    "import tensorflow as tf\n",
    "import keras\n",
    "from keras import layers, models\n",
    "from sklearn.model_selection import train_test_split\n",
    "from sklearn.metrics import accuracy_score, confusion_matrix, classification_report\n",
    "import matplotlib.pyplot as plt\n",
    "import seaborn as sns"
   ]
  },
  {
   "cell_type": "code",
   "execution_count": 2,
   "id": "b9062b6a",
   "metadata": {},
   "outputs": [
    {
     "name": "stdout",
     "output_type": "stream",
     "text": [
      "Downloading data from https://storage.googleapis.com/tensorflow/tf-keras-datasets/train-labels-idx1-ubyte.gz\n",
      "29515/29515 [==============================] - 0s 6us/step\n",
      "Downloading data from https://storage.googleapis.com/tensorflow/tf-keras-datasets/train-images-idx3-ubyte.gz\n",
      "26421880/26421880 [==============================] - 6s 0us/step\n",
      "Downloading data from https://storage.googleapis.com/tensorflow/tf-keras-datasets/t10k-labels-idx1-ubyte.gz\n",
      "5148/5148 [==============================] - 0s 0s/step\n",
      "Downloading data from https://storage.googleapis.com/tensorflow/tf-keras-datasets/t10k-images-idx3-ubyte.gz\n",
      "4422102/4422102 [==============================] - 2s 0us/step\n"
     ]
    }
   ],
   "source": [
    "# Load the Fashion MNIST dataset\n",
    "fashion_mnist = tf.keras.datasets.fashion_mnist\n",
    "(train_images, train_labels), (test_images, test_labels) = fashion_mnist.load_data()"
   ]
  },
  {
   "cell_type": "code",
   "execution_count": 3,
   "id": "925f1f2a",
   "metadata": {},
   "outputs": [],
   "source": [
    "# Normalize pixel values to be between 0 and 1\n",
    "train_images, test_images = train_images / 255.0, test_images / 255.0"
   ]
  },
  {
   "cell_type": "code",
   "execution_count": 4,
   "id": "88dc0b26",
   "metadata": {},
   "outputs": [],
   "source": [
    "# Split the data into training and testing sets\n",
    "X_train, X_test, y_train, y_test = train_test_split(train_images, train_labels, test_size=0.2, random_state=42)"
   ]
  },
  {
   "cell_type": "code",
   "execution_count": 5,
   "id": "96a6d3dc",
   "metadata": {},
   "outputs": [],
   "source": [
    "# Define the neural network model\n",
    "model = models.Sequential()\n",
    "model.add(layers.Flatten(input_shape=(28, 28)))  # Flatten layer\n",
    "model.add(layers.Dense(128, activation='relu'))  # Dense layer with ReLU activation\n",
    "model.add(layers.Dropout(0.5))  # Dropout layer\n",
    "model.add(layers.Dense(64, activation='relu'))  # Additional Dense layer\n",
    "model.add(layers.Dense(10, activation='softmax'))  # Output layer with softmax activation"
   ]
  },
  {
   "cell_type": "code",
   "execution_count": 6,
   "id": "97b1212e",
   "metadata": {},
   "outputs": [],
   "source": [
    "# Compile the model\n",
    "model.compile(optimizer='adam',\n",
    "              loss='sparse_categorical_crossentropy',\n",
    "              metrics=['accuracy'])"
   ]
  },
  {
   "cell_type": "code",
   "execution_count": 7,
   "id": "d9be6c39",
   "metadata": {},
   "outputs": [
    {
     "name": "stdout",
     "output_type": "stream",
     "text": [
      "Epoch 1/10\n",
      "1200/1200 [==============================] - 13s 9ms/step - loss: 0.6861 - accuracy: 0.7522 - val_loss: 0.4758 - val_accuracy: 0.8219\n",
      "Epoch 2/10\n",
      "1200/1200 [==============================] - 10s 8ms/step - loss: 0.5110 - accuracy: 0.8130 - val_loss: 0.4164 - val_accuracy: 0.8453\n",
      "Epoch 3/10\n",
      "1200/1200 [==============================] - 9s 7ms/step - loss: 0.4734 - accuracy: 0.8268 - val_loss: 0.3942 - val_accuracy: 0.8499\n",
      "Epoch 4/10\n",
      "1200/1200 [==============================] - 9s 8ms/step - loss: 0.4522 - accuracy: 0.8371 - val_loss: 0.3951 - val_accuracy: 0.8530\n",
      "Epoch 5/10\n",
      "1200/1200 [==============================] - 9s 8ms/step - loss: 0.4326 - accuracy: 0.8401 - val_loss: 0.3666 - val_accuracy: 0.8640\n",
      "Epoch 6/10\n",
      "1200/1200 [==============================] - 9s 7ms/step - loss: 0.4202 - accuracy: 0.8457 - val_loss: 0.3604 - val_accuracy: 0.8665\n",
      "Epoch 7/10\n",
      "1200/1200 [==============================] - 10s 8ms/step - loss: 0.4034 - accuracy: 0.8521 - val_loss: 0.3562 - val_accuracy: 0.8662\n",
      "Epoch 8/10\n",
      "1200/1200 [==============================] - 9s 7ms/step - loss: 0.3997 - accuracy: 0.8518 - val_loss: 0.3506 - val_accuracy: 0.8697\n",
      "Epoch 9/10\n",
      "1200/1200 [==============================] - 9s 8ms/step - loss: 0.3871 - accuracy: 0.8563 - val_loss: 0.3442 - val_accuracy: 0.8725\n",
      "Epoch 10/10\n",
      "1200/1200 [==============================] - 10s 8ms/step - loss: 0.3866 - accuracy: 0.8585 - val_loss: 0.3309 - val_accuracy: 0.8768\n"
     ]
    },
    {
     "data": {
      "text/plain": [
       "<keras.callbacks.History at 0x2b5ed722940>"
      ]
     },
     "execution_count": 7,
     "metadata": {},
     "output_type": "execute_result"
    }
   ],
   "source": [
    "# Train the model\n",
    "model.fit(X_train, y_train, epochs=10, validation_split=0.2)"
   ]
  },
  {
   "cell_type": "code",
   "execution_count": 8,
   "id": "29c6fca9",
   "metadata": {},
   "outputs": [
    {
     "name": "stdout",
     "output_type": "stream",
     "text": [
      "375/375 [==============================] - 2s 6ms/step - loss: 0.3399 - accuracy: 0.8756\n",
      "Test accuracy: 87.56%\n"
     ]
    }
   ],
   "source": [
    "# Evaluate the model on the test set\n",
    "test_loss, test_acc = model.evaluate(X_test, y_test)\n",
    "print(f'Test accuracy: {test_acc * 100:.2f}%')"
   ]
  },
  {
   "cell_type": "code",
   "execution_count": 9,
   "id": "fe47b96a",
   "metadata": {},
   "outputs": [
    {
     "name": "stdout",
     "output_type": "stream",
     "text": [
      "375/375 [==============================] - 2s 5ms/step\n"
     ]
    }
   ],
   "source": [
    "# Make predictions on the test set\n",
    "y_pred = np.argmax(model.predict(X_test), axis=1)"
   ]
  },
  {
   "cell_type": "code",
   "execution_count": 10,
   "id": "7f22b91b",
   "metadata": {},
   "outputs": [
    {
     "name": "stdout",
     "output_type": "stream",
     "text": [
      "Accuracy: 87.56%\n"
     ]
    }
   ],
   "source": [
    "# Calculate the accuracy of the model\n",
    "accuracy = accuracy_score(y_test, y_pred)\n",
    "print(f'Accuracy: {accuracy * 100:.2f}%')"
   ]
  },
  {
   "cell_type": "code",
   "execution_count": 11,
   "id": "b577e4c1",
   "metadata": {},
   "outputs": [
    {
     "name": "stdout",
     "output_type": "stream",
     "text": [
      "Confusion Matrix:\n",
      "[[ 972    3   19   63    3    0  140    0    2    0]\n",
      " [   0 1193    2   19    2    0    2    0    1    0]\n",
      " [   9    0  968   17  144    0   66    0    1    0]\n",
      " [  19   17    6 1076   51    0   10    0    5    0]\n",
      " [   0    0   96   34 1005    0   61    0    6    0]\n",
      " [   0    0    0    0    0 1173    0   25    2   11]\n",
      " [ 157    3  123   48  133    1  740    0   13    0]\n",
      " [   0    0    0    0    0   29    0 1091    0   39]\n",
      " [   1    1   11    5    8    9   15    4 1142    1]\n",
      " [   0    0    0    0    0   22    0   34    0 1147]]\n",
      "Classification Report:\n",
      "              precision    recall  f1-score   support\n",
      "\n",
      "           0       0.84      0.81      0.82      1202\n",
      "           1       0.98      0.98      0.98      1219\n",
      "           2       0.79      0.80      0.80      1205\n",
      "           3       0.85      0.91      0.88      1184\n",
      "           4       0.75      0.84      0.79      1202\n",
      "           5       0.95      0.97      0.96      1211\n",
      "           6       0.72      0.61      0.66      1218\n",
      "           7       0.95      0.94      0.94      1159\n",
      "           8       0.97      0.95      0.96      1197\n",
      "           9       0.96      0.95      0.96      1203\n",
      "\n",
      "    accuracy                           0.88     12000\n",
      "   macro avg       0.88      0.88      0.87     12000\n",
      "weighted avg       0.87      0.88      0.87     12000\n",
      "\n"
     ]
    }
   ],
   "source": [
    "# Generate a confusion matrix and classification report\n",
    "confusion = confusion_matrix(y_test, y_pred)\n",
    "report = classification_report(y_test, y_pred)\n",
    "print(\"Confusion Matrix:\")\n",
    "print(confusion)\n",
    "print(\"Classification Report:\")\n",
    "print(report)"
   ]
  },
  {
   "cell_type": "code",
   "execution_count": 12,
   "id": "b0e2a2ea",
   "metadata": {},
   "outputs": [
    {
     "data": {
      "image/png": "[encoded data removed]",
      "text/plain": [
       "<Figure size 576x432 with 2 Axes>"
      ]
     },
     "metadata": {
      "needs_background": "light"
     },
     "output_type": "display_data"
    }
   ],
   "source": [
    "# Plot the Confusion Matrix\n",
    "plt.figure(figsize=(8, 6))\n",
    "sns.heatmap(confusion, annot=True, cmap='Blues', fmt='g', xticklabels=np.unique(y_test), yticklabels=np.unique(y_test))\n",
    "plt.xlabel('Predicted')\n",
    "plt.ylabel('Actual')\n",
    "plt.title('Confusion Matrix')\n",
    "plt.show()"
   ]
  },
  {
   "cell_type": "code",
   "execution_count": null,
   "id": "b003fbe2",
   "metadata": {},
   "outputs": [],
   "source": []
  }
 ],
 "metadata": {
  "kernelspec": {
   "display_name": "Python 3",
   "language": "python",
   "name": "python3"
  },
  "language_info": {
   "codemirror_mode": {
    "name": "ipython",
    "version": 3
   },
   "file_extension": ".py",
   "mimetype": "text/x-python",
   "name": "python",
   "nbconvert_exporter": "python",
   "pygments_lexer": "ipython3",
   "version": "3.8.8"
  }
 },
 "nbformat": 4,
 "nbformat_minor": 5
}
